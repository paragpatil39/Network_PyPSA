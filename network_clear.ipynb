{
 "cells": [
  {
   "cell_type": "markdown",
   "metadata": {},
   "source": [
    "# 3-Node Congestion Identification and Redispatch Market: Germany"
   ]
  },
  {
   "cell_type": "markdown",
   "metadata": {},
   "source": [
    "## Single bidding zone with fixed load, one period: Germany"
   ]
  },
  {
   "cell_type": "markdown",
   "metadata": {},
   "source": [
    "### 1)Import Packages"
   ]
  },
  {
   "cell_type": "code",
   "execution_count": 2,
   "metadata": {},
   "outputs": [
    {
     "name": "stderr",
     "output_type": "stream",
     "text": [
      "/usr/lib/python3/dist-packages/scipy/__init__.py:146: UserWarning: A NumPy version >=1.17.3 and <1.25.0 is required for this version of SciPy (detected version 1.26.2\n",
      "  warnings.warn(f\"A NumPy version >={np_minversion} and <{np_maxversion}\"\n"
     ]
    }
   ],
   "source": [
    "import pypsa\n",
    "#import pandapower as pp\n",
    "import os\n",
    "import matplotlib.pyplot as plt\n",
    "import numpy as np\n",
    "import pandas as pd\n",
    "import cartopy.crs as ccrs\n",
    "import warnings\n",
    "import subprocess\n",
    "from shapely.errors import ShapelyDeprecationWarning\n",
    "import logging\n",
    "from collections import Counter\n",
    "\n",
    "warnings.filterwarnings(\"ignore\", category=ShapelyDeprecationWarning)\n",
    "warnings.filterwarnings(\"ignore\", category=FutureWarning)\n",
    "logging.getLogger(\"pypsa.pf\").setLevel(logging.WARNING)\n",
    "plt.rc(\"figure\", figsize=(10, 8))"
   ]
  },
  {
   "cell_type": "code",
   "execution_count": 3,
   "metadata": {},
   "outputs": [
    {
     "data": {
      "text/plain": [
       "'/nimble/home/par19744/ASSUME_network'"
      ]
     },
     "execution_count": 3,
     "metadata": {},
     "output_type": "execute_result"
    }
   ],
   "source": [
    "os.getcwd()"
   ]
  },
  {
   "cell_type": "code",
   "execution_count": 4,
   "metadata": {},
   "outputs": [
    {
     "name": "stdout",
     "output_type": "stream",
     "text": [
      "The directory already exists.\n"
     ]
    }
   ],
   "source": [
    "os.chdir(\"/nimble/home/par19744/ASSUME_network\")\n",
    "\n",
    "if not os.path.exists(\"/nimble/home/par19744/ASSUME_network/outputs\"):\n",
    "    os.makedirs(\"/nimble/home/par19744/ASSUME_network/outputs\")\n",
    "else:\n",
    "    print(f\"The directory already exists.\")"
   ]
  },
  {
   "cell_type": "markdown",
   "metadata": {},
   "source": [
    "### 2)Create a network and set Snapshots"
   ]
  },
  {
   "cell_type": "code",
   "execution_count": 5,
   "metadata": {},
   "outputs": [],
   "source": [
    "# Create a new PyPSA network\n",
    "network = pypsa.Network()\n",
    "solver='glpk'"
   ]
  },
  {
   "cell_type": "code",
   "execution_count": 6,
   "metadata": {},
   "outputs": [],
   "source": [
    "network.set_snapshots(pd.date_range(\"2024-01-01\", periods=24, freq=\"H\"))"
   ]
  },
  {
   "cell_type": "code",
   "execution_count": 7,
   "metadata": {},
   "outputs": [
    {
     "data": {
      "text/plain": [
       "DatetimeIndex(['2024-01-01 00:00:00', '2024-01-01 01:00:00',\n",
       "               '2024-01-01 02:00:00', '2024-01-01 03:00:00',\n",
       "               '2024-01-01 04:00:00', '2024-01-01 05:00:00',\n",
       "               '2024-01-01 06:00:00', '2024-01-01 07:00:00',\n",
       "               '2024-01-01 08:00:00', '2024-01-01 09:00:00',\n",
       "               '2024-01-01 10:00:00', '2024-01-01 11:00:00',\n",
       "               '2024-01-01 12:00:00', '2024-01-01 13:00:00',\n",
       "               '2024-01-01 14:00:00', '2024-01-01 15:00:00',\n",
       "               '2024-01-01 16:00:00', '2024-01-01 17:00:00',\n",
       "               '2024-01-01 18:00:00', '2024-01-01 19:00:00',\n",
       "               '2024-01-01 20:00:00', '2024-01-01 21:00:00',\n",
       "               '2024-01-01 22:00:00', '2024-01-01 23:00:00'],\n",
       "              dtype='datetime64[ns]', name='snapshot', freq='h')"
      ]
     },
     "execution_count": 7,
     "metadata": {},
     "output_type": "execute_result"
    }
   ],
   "source": [
    "network.snapshots"
   ]
  },
  {
   "cell_type": "markdown",
   "metadata": {},
   "source": [
    "### 3)Add Buses"
   ]
  },
  {
   "cell_type": "code",
   "execution_count": 7,
   "metadata": {},
   "outputs": [],
   "source": [
    "# Read excel file which contains Non renewable generators data\n",
    "def add_buses(filename,header):\n",
    "    try:\n",
    "        bus_data = pd.read_csv(filename,header=header)\n",
    "    except pd.errors.EmptyDataError:\n",
    "        print(\"The CSV file is empty.\")\n",
    "        return\n",
    "        \n",
    "    for index,row in bus_data.iterrows():\n",
    "        network.add(\n",
    "            \"Bus\",\n",
    "            name=row['bus'],\n",
    "            v_nom=row['v_nom'],\n",
    "            carrier=row['carrier'],\n",
    "            x=row['x'],\n",
    "            y=row['y']\n",
    "            )\n",
    "    return network.buses"
   ]
  },
  {
   "cell_type": "code",
   "execution_count": 8,
   "metadata": {},
   "outputs": [
    {
     "data": {
      "text/html": [
       "<div>\n",
       "<style scoped>\n",
       "    .dataframe tbody tr th:only-of-type {\n",
       "        vertical-align: middle;\n",
       "    }\n",
       "\n",
       "    .dataframe tbody tr th {\n",
       "        vertical-align: top;\n",
       "    }\n",
       "\n",
       "    .dataframe thead th {\n",
       "        text-align: right;\n",
       "    }\n",
       "</style>\n",
       "<table border=\"1\" class=\"dataframe\">\n",
       "  <thead>\n",
       "    <tr style=\"text-align: right;\">\n",
       "      <th>attribute</th>\n",
       "      <th>v_nom</th>\n",
       "      <th>type</th>\n",
       "      <th>x</th>\n",
       "      <th>y</th>\n",
       "      <th>carrier</th>\n",
       "      <th>unit</th>\n",
       "      <th>v_mag_pu_set</th>\n",
       "      <th>v_mag_pu_min</th>\n",
       "      <th>v_mag_pu_max</th>\n",
       "      <th>control</th>\n",
       "      <th>generator</th>\n",
       "      <th>sub_network</th>\n",
       "    </tr>\n",
       "    <tr>\n",
       "      <th>Bus</th>\n",
       "      <th></th>\n",
       "      <th></th>\n",
       "      <th></th>\n",
       "      <th></th>\n",
       "      <th></th>\n",
       "      <th></th>\n",
       "      <th></th>\n",
       "      <th></th>\n",
       "      <th></th>\n",
       "      <th></th>\n",
       "      <th></th>\n",
       "      <th></th>\n",
       "    </tr>\n",
       "  </thead>\n",
       "  <tbody>\n",
       "    <tr>\n",
       "      <th>no_de</th>\n",
       "      <td>380.0</td>\n",
       "      <td></td>\n",
       "      <td>9.598</td>\n",
       "      <td>53.5585</td>\n",
       "      <td>AC</td>\n",
       "      <td></td>\n",
       "      <td>1.0</td>\n",
       "      <td>0.0</td>\n",
       "      <td>inf</td>\n",
       "      <td>PQ</td>\n",
       "      <td></td>\n",
       "      <td></td>\n",
       "    </tr>\n",
       "    <tr>\n",
       "      <th>ost_de</th>\n",
       "      <td>380.0</td>\n",
       "      <td></td>\n",
       "      <td>13.607</td>\n",
       "      <td>51.0769</td>\n",
       "      <td>AC</td>\n",
       "      <td></td>\n",
       "      <td>1.0</td>\n",
       "      <td>0.0</td>\n",
       "      <td>inf</td>\n",
       "      <td>PQ</td>\n",
       "      <td></td>\n",
       "      <td></td>\n",
       "    </tr>\n",
       "    <tr>\n",
       "      <th>west_de</th>\n",
       "      <td>380.0</td>\n",
       "      <td></td>\n",
       "      <td>6.802</td>\n",
       "      <td>50.9578</td>\n",
       "      <td>AC</td>\n",
       "      <td></td>\n",
       "      <td>1.0</td>\n",
       "      <td>0.0</td>\n",
       "      <td>inf</td>\n",
       "      <td>PQ</td>\n",
       "      <td></td>\n",
       "      <td></td>\n",
       "    </tr>\n",
       "  </tbody>\n",
       "</table>\n",
       "</div>"
      ],
      "text/plain": [
       "attribute  v_nom type       x        y carrier unit  v_mag_pu_set  \\\n",
       "Bus                                                                 \n",
       "no_de      380.0        9.598  53.5585      AC                1.0   \n",
       "ost_de     380.0       13.607  51.0769      AC                1.0   \n",
       "west_de    380.0        6.802  50.9578      AC                1.0   \n",
       "\n",
       "attribute  v_mag_pu_min  v_mag_pu_max control generator sub_network  \n",
       "Bus                                                                  \n",
       "no_de               0.0           inf      PQ                        \n",
       "ost_de              0.0           inf      PQ                        \n",
       "west_de             0.0           inf      PQ                        "
      ]
     },
     "execution_count": 8,
     "metadata": {},
     "output_type": "execute_result"
    }
   ],
   "source": [
    "add_buses('buses.csv',0)"
   ]
  },
  {
   "cell_type": "markdown",
   "metadata": {},
   "source": [
    "### 4)Add generators"
   ]
  },
  {
   "cell_type": "code",
   "execution_count": 9,
   "metadata": {},
   "outputs": [],
   "source": [
    "def add_generators(filename, index_col):\n",
    "    try:\n",
    "        generator_data = pd.read_csv(filename,index_col=index_col)\n",
    "    except pd.errors.EmptyDataError:\n",
    "        print(\"The CSV file is empty.\")\n",
    "        return\n",
    "    \n",
    "    generators_da = generator_data.copy()\n",
    "    generators_da['p_max_pu'] = generators_da['p_da'] / generators_da['p_nom']\n",
    "    generators_da['p_min_pu']= generators_da['p_da'] / generators_da['p_nom']\n",
    "    grouped_data_da = generators_da.groupby('name').agg(lambda x: x.tolist()).reset_index()\n",
    "    \n",
    "    # Iterate through time steps and add generators\n",
    "    for index,row in grouped_data_da.iterrows():   \n",
    "        network.add(\"Generator\",\n",
    "                    name=row['name'],\n",
    "                    bus=' '.join(set(row['bus'])),\n",
    "                    p_set=row['p_da'],\n",
    "                    p_nom=' '.join(map(str, set(row['p_nom']))),\n",
    "                    marginal_cost=row['marginal_cost'],\n",
    "                    p_nom_extendable=False,\n",
    "                    p_max_pu=row['p_max_pu'],\n",
    "                    p_min_pu=row['p_min_pu'],\n",
    "                    carrier=' '.join(set(row['carrier']))\n",
    "                )\n",
    "\n",
    "    return network.generators_t.p_set.head(5)"
   ]
  },
  {
   "cell_type": "code",
   "execution_count": 10,
   "metadata": {},
   "outputs": [
    {
     "data": {
      "text/html": [
       "<div>\n",
       "<style scoped>\n",
       "    .dataframe tbody tr th:only-of-type {\n",
       "        vertical-align: middle;\n",
       "    }\n",
       "\n",
       "    .dataframe tbody tr th {\n",
       "        vertical-align: top;\n",
       "    }\n",
       "\n",
       "    .dataframe thead th {\n",
       "        text-align: right;\n",
       "    }\n",
       "</style>\n",
       "<table border=\"1\" class=\"dataframe\">\n",
       "  <thead>\n",
       "    <tr style=\"text-align: right;\">\n",
       "      <th>Generator</th>\n",
       "      <th>gen_no1</th>\n",
       "      <th>gen_ost1</th>\n",
       "      <th>gen_west1</th>\n",
       "    </tr>\n",
       "    <tr>\n",
       "      <th>snapshot</th>\n",
       "      <th></th>\n",
       "      <th></th>\n",
       "      <th></th>\n",
       "    </tr>\n",
       "  </thead>\n",
       "  <tbody>\n",
       "    <tr>\n",
       "      <th>2024-01-01 00:00:00</th>\n",
       "      <td>31.0</td>\n",
       "      <td>4.0</td>\n",
       "      <td>0.0</td>\n",
       "    </tr>\n",
       "    <tr>\n",
       "      <th>2024-01-01 01:00:00</th>\n",
       "      <td>31.0</td>\n",
       "      <td>3.0</td>\n",
       "      <td>0.0</td>\n",
       "    </tr>\n",
       "    <tr>\n",
       "      <th>2024-01-01 02:00:00</th>\n",
       "      <td>31.0</td>\n",
       "      <td>3.0</td>\n",
       "      <td>0.0</td>\n",
       "    </tr>\n",
       "    <tr>\n",
       "      <th>2024-01-01 03:00:00</th>\n",
       "      <td>31.0</td>\n",
       "      <td>2.0</td>\n",
       "      <td>0.0</td>\n",
       "    </tr>\n",
       "    <tr>\n",
       "      <th>2024-01-01 04:00:00</th>\n",
       "      <td>31.0</td>\n",
       "      <td>6.0</td>\n",
       "      <td>0.0</td>\n",
       "    </tr>\n",
       "  </tbody>\n",
       "</table>\n",
       "</div>"
      ],
      "text/plain": [
       "Generator            gen_no1  gen_ost1  gen_west1\n",
       "snapshot                                         \n",
       "2024-01-01 00:00:00     31.0       4.0        0.0\n",
       "2024-01-01 01:00:00     31.0       3.0        0.0\n",
       "2024-01-01 02:00:00     31.0       3.0        0.0\n",
       "2024-01-01 03:00:00     31.0       2.0        0.0\n",
       "2024-01-01 04:00:00     31.0       6.0        0.0"
      ]
     },
     "execution_count": 10,
     "metadata": {},
     "output_type": "execute_result"
    }
   ],
   "source": [
    "add_generators('generators_t.csv',0)"
   ]
  },
  {
   "cell_type": "markdown",
   "metadata": {},
   "source": [
    "### 5)Add load"
   ]
  },
  {
   "cell_type": "code",
   "execution_count": 11,
   "metadata": {},
   "outputs": [],
   "source": [
    "# Read excel file which contains Non renewable generators data\n",
    "def add_consumers(filename, index_col):\n",
    "    try:\n",
    "        load = pd.read_csv(filename,index_col=index_col)\n",
    "    except pd.errors.EmptyDataError:\n",
    "        print(\"The CSV file is empty.\")\n",
    "        return\n",
    "\n",
    "    for load_name in list(load.columns.unique()):\n",
    "        network.add(\"Load\",\n",
    "        f\"{load_name}\",\n",
    "        bus=load_name,\n",
    "        p_set=load[load_name].tolist()\n",
    "        )\n",
    "\n",
    "    return network.loads_t.p_set.head(5), network.loads_t.p_set.plot(figsize=(6,3), ylabel=\"MW\")"
   ]
  },
  {
   "cell_type": "code",
   "execution_count": 12,
   "metadata": {},
   "outputs": [
    {
     "data": {
      "text/plain": [
       "(Load                 no_de  ost_de  west_de\n",
       " snapshot                                   \n",
       " 2024-01-01 00:00:00    4.0    11.0     20.0\n",
       " 2024-01-01 01:00:00    3.0    10.0     21.0\n",
       " 2024-01-01 02:00:00    3.0    12.0     19.0\n",
       " 2024-01-01 03:00:00    2.0    11.0     20.0\n",
       " 2024-01-01 04:00:00    3.0    12.0     22.0,\n",
       " <AxesSubplot:xlabel='snapshot', ylabel='MW'>)"
      ]
     },
     "execution_count": 12,
     "metadata": {},
     "output_type": "execute_result"
    },
    {
     "data": {
      "image/png": "[encoded data removed]",
      "text/plain": [
       "<Figure size 432x216 with 1 Axes>"
      ]
     },
     "metadata": {
      "needs_background": "light"
     },
     "output_type": "display_data"
    }
   ],
   "source": [
    "add_consumers('consumers_t.csv',0)"
   ]
  },
  {
   "cell_type": "markdown",
   "metadata": {},
   "source": [
    "### 6)Add Transmission lines"
   ]
  },
  {
   "cell_type": "code",
   "execution_count": 13,
   "metadata": {},
   "outputs": [],
   "source": [
    "def add_lines(filename, header):\n",
    "    try:\n",
    "        lines = pd.read_csv(filename, header=header)\n",
    "    except pd.errors.EmptyDataError:\n",
    "        print(\"The CSV file is empty.\")\n",
    "        return\n",
    "        \n",
    "    for index, row in lines.iterrows():\n",
    "        network.add(\n",
    "            \"Line\",\n",
    "            \"{}\".format(index),\n",
    "            bus0=row['bus0'],\n",
    "            bus1=row['bus1'],\n",
    "            s_nom=row['s_nom'],\n",
    "            x=1,\n",
    "            s_nom_extendable=row['s_nom_extendable']\n",
    "        )\n",
    "    return network.lines.head()"
   ]
  },
  {
   "cell_type": "code",
   "execution_count": 14,
   "metadata": {},
   "outputs": [
    {
     "data": {
      "text/html": [
       "<div>\n",
       "<style scoped>\n",
       "    .dataframe tbody tr th:only-of-type {\n",
       "        vertical-align: middle;\n",
       "    }\n",
       "\n",
       "    .dataframe tbody tr th {\n",
       "        vertical-align: top;\n",
       "    }\n",
       "\n",
       "    .dataframe thead th {\n",
       "        text-align: right;\n",
       "    }\n",
       "</style>\n",
       "<table border=\"1\" class=\"dataframe\">\n",
       "  <thead>\n",
       "    <tr style=\"text-align: right;\">\n",
       "      <th>attribute</th>\n",
       "      <th>bus0</th>\n",
       "      <th>bus1</th>\n",
       "      <th>type</th>\n",
       "      <th>x</th>\n",
       "      <th>r</th>\n",
       "      <th>g</th>\n",
       "      <th>b</th>\n",
       "      <th>s_nom</th>\n",
       "      <th>s_nom_mod</th>\n",
       "      <th>s_nom_extendable</th>\n",
       "      <th>...</th>\n",
       "      <th>v_ang_min</th>\n",
       "      <th>v_ang_max</th>\n",
       "      <th>sub_network</th>\n",
       "      <th>x_pu</th>\n",
       "      <th>r_pu</th>\n",
       "      <th>g_pu</th>\n",
       "      <th>b_pu</th>\n",
       "      <th>x_pu_eff</th>\n",
       "      <th>r_pu_eff</th>\n",
       "      <th>s_nom_opt</th>\n",
       "    </tr>\n",
       "    <tr>\n",
       "      <th>Line</th>\n",
       "      <th></th>\n",
       "      <th></th>\n",
       "      <th></th>\n",
       "      <th></th>\n",
       "      <th></th>\n",
       "      <th></th>\n",
       "      <th></th>\n",
       "      <th></th>\n",
       "      <th></th>\n",
       "      <th></th>\n",
       "      <th></th>\n",
       "      <th></th>\n",
       "      <th></th>\n",
       "      <th></th>\n",
       "      <th></th>\n",
       "      <th></th>\n",
       "      <th></th>\n",
       "      <th></th>\n",
       "      <th></th>\n",
       "      <th></th>\n",
       "      <th></th>\n",
       "    </tr>\n",
       "  </thead>\n",
       "  <tbody>\n",
       "    <tr>\n",
       "      <th>0</th>\n",
       "      <td>no_de</td>\n",
       "      <td>ost_de</td>\n",
       "      <td></td>\n",
       "      <td>1.0</td>\n",
       "      <td>0.0</td>\n",
       "      <td>0.0</td>\n",
       "      <td>0.0</td>\n",
       "      <td>12.0</td>\n",
       "      <td>0.0</td>\n",
       "      <td>False</td>\n",
       "      <td>...</td>\n",
       "      <td>-inf</td>\n",
       "      <td>inf</td>\n",
       "      <td></td>\n",
       "      <td>0.0</td>\n",
       "      <td>0.0</td>\n",
       "      <td>0.0</td>\n",
       "      <td>0.0</td>\n",
       "      <td>0.0</td>\n",
       "      <td>0.0</td>\n",
       "      <td>0.0</td>\n",
       "    </tr>\n",
       "    <tr>\n",
       "      <th>1</th>\n",
       "      <td>ost_de</td>\n",
       "      <td>west_de</td>\n",
       "      <td></td>\n",
       "      <td>1.0</td>\n",
       "      <td>0.0</td>\n",
       "      <td>0.0</td>\n",
       "      <td>0.0</td>\n",
       "      <td>12.0</td>\n",
       "      <td>0.0</td>\n",
       "      <td>False</td>\n",
       "      <td>...</td>\n",
       "      <td>-inf</td>\n",
       "      <td>inf</td>\n",
       "      <td></td>\n",
       "      <td>0.0</td>\n",
       "      <td>0.0</td>\n",
       "      <td>0.0</td>\n",
       "      <td>0.0</td>\n",
       "      <td>0.0</td>\n",
       "      <td>0.0</td>\n",
       "      <td>0.0</td>\n",
       "    </tr>\n",
       "    <tr>\n",
       "      <th>2</th>\n",
       "      <td>west_de</td>\n",
       "      <td>no_de</td>\n",
       "      <td></td>\n",
       "      <td>1.0</td>\n",
       "      <td>0.0</td>\n",
       "      <td>0.0</td>\n",
       "      <td>0.0</td>\n",
       "      <td>12.0</td>\n",
       "      <td>0.0</td>\n",
       "      <td>False</td>\n",
       "      <td>...</td>\n",
       "      <td>-inf</td>\n",
       "      <td>inf</td>\n",
       "      <td></td>\n",
       "      <td>0.0</td>\n",
       "      <td>0.0</td>\n",
       "      <td>0.0</td>\n",
       "      <td>0.0</td>\n",
       "      <td>0.0</td>\n",
       "      <td>0.0</td>\n",
       "      <td>0.0</td>\n",
       "    </tr>\n",
       "  </tbody>\n",
       "</table>\n",
       "<p>3 rows × 30 columns</p>\n",
       "</div>"
      ],
      "text/plain": [
       "attribute     bus0     bus1 type    x    r    g    b  s_nom  s_nom_mod  \\\n",
       "Line                                                                     \n",
       "0            no_de   ost_de       1.0  0.0  0.0  0.0   12.0        0.0   \n",
       "1           ost_de  west_de       1.0  0.0  0.0  0.0   12.0        0.0   \n",
       "2          west_de    no_de       1.0  0.0  0.0  0.0   12.0        0.0   \n",
       "\n",
       "attribute  s_nom_extendable  ...  v_ang_min  v_ang_max  sub_network  x_pu  \\\n",
       "Line                         ...                                            \n",
       "0                     False  ...       -inf        inf                0.0   \n",
       "1                     False  ...       -inf        inf                0.0   \n",
       "2                     False  ...       -inf        inf                0.0   \n",
       "\n",
       "attribute  r_pu  g_pu  b_pu x_pu_eff  r_pu_eff  s_nom_opt  \n",
       "Line                                                       \n",
       "0           0.0   0.0   0.0      0.0       0.0        0.0  \n",
       "1           0.0   0.0   0.0      0.0       0.0        0.0  \n",
       "2           0.0   0.0   0.0      0.0       0.0        0.0  \n",
       "\n",
       "[3 rows x 30 columns]"
      ]
     },
     "execution_count": 14,
     "metadata": {},
     "output_type": "execute_result"
    }
   ],
   "source": [
    "add_lines('lines.csv',0)"
   ]
  },
  {
   "cell_type": "markdown",
   "metadata": {},
   "source": [
    "### 8)Congestion identification"
   ]
  },
  {
   "cell_type": "code",
   "execution_count": 15,
   "metadata": {},
   "outputs": [],
   "source": [
    "def congestion_identification():\n",
    "    warnings.simplefilter(action='ignore', category=FutureWarning)\n",
    "    warnings.simplefilter(action='ignore', category=DeprecationWarning)\n",
    "    \n",
    "    zero_r_lines = network.lines.index[network.lines.r == 0]      # A small non-zero value for resistance in lines with zero resistance\n",
    "    network.lines.loc[zero_r_lines, 'r'] = 1e-9  \n",
    "    congestion_info = []\n",
    "    network.pf()\n",
    "\n",
    "    line_index_counter = Counter()\n",
    "\n",
    "    for timestep in network.snapshots:\n",
    "        for index, (loading, s_nom_value) in enumerate(zip(np.round(np.abs(network.lines_t.p0.values.flatten())), network.lines.s_nom)):\n",
    "            net_loading = loading - s_nom_value\n",
    "            congestion_status = net_loading > 0\n",
    "            congestion_info.append({\n",
    "                \"timestamp\":timestep,\n",
    "                \"line_index\": network.lines.index[index],\n",
    "                \"nominal_grid_cap\": s_nom_value,\n",
    "                \"line_loading\": loading,\n",
    "                \"net_loading\": net_loading, \n",
    "                \"congestion_status\": congestion_status\n",
    "            })\n",
    "\n",
    "            if congestion_status:\n",
    "                line_index_counter[network.lines.index[index]] += 1\n",
    "\n",
    "    congestion_df = pd.DataFrame(congestion_info)\n",
    "    congestion = (lambda x: \"Network is congested\" if x.any() else \"There is no congestion\")(congestion_df['congestion_status'])\n",
    "    \n",
    "    counter_df = pd.DataFrame(list(line_index_counter.items()), columns=['line_index', 'congestion_count'])\n",
    "    counter_df.to_csv(\"outputs/congestion_count.csv\", index=False)\n",
    "    \n",
    "    print(f\"Congestion count for each line_index:\\n {counter_df}\")\n",
    "    \n",
    "    return congestion_df"
   ]
  },
  {
   "cell_type": "code",
   "execution_count": 16,
   "metadata": {},
   "outputs": [
    {
     "name": "stdout",
     "output_type": "stream",
     "text": [
      "Congestion count for each line_index:\n",
      "   line_index  congestion_count\n",
      "0          2                24\n"
     ]
    },
    {
     "data": {
      "text/html": [
       "<div>\n",
       "<style scoped>\n",
       "    .dataframe tbody tr th:only-of-type {\n",
       "        vertical-align: middle;\n",
       "    }\n",
       "\n",
       "    .dataframe tbody tr th {\n",
       "        vertical-align: top;\n",
       "    }\n",
       "\n",
       "    .dataframe thead th {\n",
       "        text-align: right;\n",
       "    }\n",
       "</style>\n",
       "<table border=\"1\" class=\"dataframe\">\n",
       "  <thead>\n",
       "    <tr style=\"text-align: right;\">\n",
       "      <th></th>\n",
       "      <th>timestamp</th>\n",
       "      <th>line_index</th>\n",
       "      <th>nominal_grid_cap</th>\n",
       "      <th>line_loading</th>\n",
       "      <th>net_loading</th>\n",
       "      <th>congestion_status</th>\n",
       "    </tr>\n",
       "  </thead>\n",
       "  <tbody>\n",
       "    <tr>\n",
       "      <th>0</th>\n",
       "      <td>2024-01-01 00:00:00</td>\n",
       "      <td>0</td>\n",
       "      <td>12.0</td>\n",
       "      <td>11.0</td>\n",
       "      <td>-1.0</td>\n",
       "      <td>False</td>\n",
       "    </tr>\n",
       "    <tr>\n",
       "      <th>1</th>\n",
       "      <td>2024-01-01 00:00:00</td>\n",
       "      <td>1</td>\n",
       "      <td>12.0</td>\n",
       "      <td>4.0</td>\n",
       "      <td>-8.0</td>\n",
       "      <td>False</td>\n",
       "    </tr>\n",
       "    <tr>\n",
       "      <th>2</th>\n",
       "      <td>2024-01-01 00:00:00</td>\n",
       "      <td>2</td>\n",
       "      <td>12.0</td>\n",
       "      <td>16.0</td>\n",
       "      <td>4.0</td>\n",
       "      <td>True</td>\n",
       "    </tr>\n",
       "    <tr>\n",
       "      <th>3</th>\n",
       "      <td>2024-01-01 01:00:00</td>\n",
       "      <td>0</td>\n",
       "      <td>12.0</td>\n",
       "      <td>11.0</td>\n",
       "      <td>-1.0</td>\n",
       "      <td>False</td>\n",
       "    </tr>\n",
       "    <tr>\n",
       "      <th>4</th>\n",
       "      <td>2024-01-01 01:00:00</td>\n",
       "      <td>1</td>\n",
       "      <td>12.0</td>\n",
       "      <td>4.0</td>\n",
       "      <td>-8.0</td>\n",
       "      <td>False</td>\n",
       "    </tr>\n",
       "  </tbody>\n",
       "</table>\n",
       "</div>"
      ],
      "text/plain": [
       "            timestamp line_index  nominal_grid_cap  line_loading  net_loading  \\\n",
       "0 2024-01-01 00:00:00          0              12.0          11.0         -1.0   \n",
       "1 2024-01-01 00:00:00          1              12.0           4.0         -8.0   \n",
       "2 2024-01-01 00:00:00          2              12.0          16.0          4.0   \n",
       "3 2024-01-01 01:00:00          0              12.0          11.0         -1.0   \n",
       "4 2024-01-01 01:00:00          1              12.0           4.0         -8.0   \n",
       "\n",
       "   congestion_status  \n",
       "0              False  \n",
       "1              False  \n",
       "2               True  \n",
       "3              False  \n",
       "4              False  "
      ]
     },
     "execution_count": 16,
     "metadata": {},
     "output_type": "execute_result"
    }
   ],
   "source": [
    "congestion_info=congestion_identification()\n",
    "congestion_info.head()"
   ]
  },
  {
   "cell_type": "markdown",
   "metadata": {},
   "source": [
    "### 9)Redispatch"
   ]
  },
  {
   "cell_type": "code",
   "execution_count": 17,
   "metadata": {},
   "outputs": [],
   "source": [
    "def redispatch():\n",
    "    warnings.simplefilter(action='ignore', category=FutureWarning)\n",
    "    warnings.simplefilter(action='ignore', category=DeprecationWarning)\n",
    "    congestion_info=congestion_identification()\n",
    "    redispatch_info = []\n",
    "\n",
    "    if congestion_info['congestion_status'].any():\n",
    "        redisp_network=network.copy()\n",
    "        redisp_network.lines['s_nom_extendable'] = False\n",
    "        redisp_network.generators['control'] = 'PQ'\n",
    "        line_index_counter = Counter()\n",
    "        \n",
    "        # 1. Adding Positive redispatch generator capacity\n",
    "        try:\n",
    "            generator_data = pd.read_csv('generators_t.csv',index_col=0)\n",
    "        except pd.errors.EmptyDataError:\n",
    "            print(\"The CSV file is empty.\")\n",
    "\n",
    "        generator_data_pos = generator_data.copy()   \n",
    "        generator_data_pos['p_max_pu'] = (generator_data_pos['p_nom']-generator_data_pos['p_da'])/ (generator_data_pos['p_nom'])\n",
    "        generator_data_pos['p_min_pu']= 0\n",
    "        grouped_data_pos = generator_data_pos.groupby('name').agg(lambda x: x.tolist()).reset_index()\n",
    "        grouped_data_pos['p_nom'] = grouped_data_pos['p_nom'].apply(lambda x: x[0] if len(set(x)) == 1 else x)\n",
    "\n",
    "        for index,row in grouped_data_pos.iterrows():   \n",
    "            redisp_network.add(\"Generator\",\n",
    "                        name=f\"posredisp_{row['name']}\",\n",
    "                        bus=' '.join(set(row['bus'])),\n",
    "                        marginal_cost=row['marginal_cost'],\n",
    "                        p_nom_extendable=False,\n",
    "                        p_nom=row['p_nom'],\n",
    "                        p_max_pu=row['p_max_pu'],\n",
    "                        p_min_pu=row['p_min_pu'],\n",
    "                        p_set=row['p_da'],\n",
    "                        carrier=' '.join(set(row['carrier']))    \n",
    "                    )\n",
    "        print(\"Positive redispatch capacity is added\")\n",
    "\n",
    "        # 2. Adding Negative redispatch generator capacity\n",
    "\n",
    "        generator_data_neg = generator_data.copy()  \n",
    "        generator_data_neg['p_max_pu'] =(generator_data_neg['p_da']-generator_data_neg['p_min'])/ (generator_data_neg['p_nom'])\n",
    "        generator_data_neg['p_min_pu']= 0\n",
    "        grouped_data_neg = generator_data_neg.groupby('name').agg(lambda x: x.tolist()).reset_index()\n",
    "        grouped_data_neg['p_nom'] = grouped_data_neg['p_nom'].apply(lambda x: x[0] if len(set(x)) == 1 else x)\n",
    "\n",
    "        for index,row in grouped_data_neg.iterrows():   \n",
    "            redisp_network.add(\"Generator\",\n",
    "                        name=f\"negredisp_{row['name']}\",\n",
    "                        bus=' '.join(set(row['bus'])),\n",
    "                        marginal_cost=row['marginal_cost'],\n",
    "                        p_nom_extendable=False,\n",
    "                        sign=-1,\n",
    "                        p_nom=row['p_nom'],\n",
    "                        p_max_pu=row['p_max_pu'],\n",
    "                        p_min_pu=row['p_min_pu'],\n",
    "                        p_set=row['p_da'],\n",
    "                        carrier=' '.join(set(row['carrier']))\n",
    "                    )\n",
    "        \n",
    "        print(\"Negative redispatch capacity is added\")\n",
    "\n",
    "        # 3. Solve the network\n",
    "        redisp_network.lopf(solver_name=solver)\n",
    "\n",
    "        # 4. Results and Data storing\n",
    "\n",
    "        for timestep in redisp_network.snapshots:\n",
    "            for index, (loading, s_nom_value) in enumerate(zip(np.round(np.abs(redisp_network.lines_t.p0.values.flatten())), redisp_network.lines.s_nom)):\n",
    "                net_loading = loading - s_nom_value\n",
    "                congestion_status = net_loading > 0\n",
    "                redispatch_info.append({\n",
    "                    \"line_index\": redisp_network.lines.index[index],\n",
    "                    \"congestion_status\": congestion_status\n",
    "                })\n",
    "\n",
    "                if congestion_status:\n",
    "                    line_index_counter[redisp_network.lines.index[index]] += 1\n",
    "\n",
    "        counter_df = pd.DataFrame(list(line_index_counter.items()), columns=['line_index', 'congestion_count']) \n",
    "        counter_0 = set(redisp_network.lines.index) - set(counter_df['line_index'])\n",
    "        missing_counts = pd.DataFrame({'line_index': list(counter_0), 'congestion_count': 0})\n",
    "\n",
    "        counter_df = pd.concat([counter_df, missing_counts], ignore_index=True)\n",
    "        counter_df.to_csv(\"outputs/congestion_count_redisp.csv\", index=False)\n",
    "\n",
    "        redisp_results=pd.DataFrame(redisp_network.generators_t.p)\n",
    "        \n",
    "        for col in network.generators_t.p_set.columns:\n",
    "            redisp_results[f\"total_{col}\"] = redisp_results[col] + redisp_results[f\"posredisp_{col}\"] - redisp_results[f\"negredisp_{col}\"]\n",
    "            total_columns = redisp_results.filter(regex=r'^total_\\w+$')\n",
    "            total_columns.to_csv(\"outputs/final_dispatch.csv\", index=True)\n",
    "\n",
    "\n",
    "        return redisp_network\n",
    "    \n",
    "    else:\n",
    "        print(\"No redispatch needed\")"
   ]
  },
  {
   "cell_type": "code",
   "execution_count": 18,
   "metadata": {},
   "outputs": [
    {
     "name": "stderr",
     "output_type": "stream",
     "text": [
      "INFO:pypsa.linopf:Prepare linear problem\n"
     ]
    },
    {
     "name": "stdout",
     "output_type": "stream",
     "text": [
      "Congestion count for each line_index:\n",
      "   line_index  congestion_count\n",
      "0          2                24\n",
      "Positive redispatch capacity is added\n",
      "Negative redispatch capacity is added\n"
     ]
    },
    {
     "name": "stderr",
     "output_type": "stream",
     "text": [
      "INFO:pypsa.linopf:Total preparation time: 0.12s\n",
      "INFO:pypsa.linopf:Solve linear problem using Glpk solver\n",
      "INFO:pypsa.linopf:Optimization successful. Objective value: 3.09e+04\n"
     ]
    }
   ],
   "source": [
    "redisp_network=redispatch()"
   ]
  },
  {
   "cell_type": "markdown",
   "metadata": {},
   "source": [
    "### 10)Visualization of results"
   ]
  },
  {
   "cell_type": "code",
   "execution_count": 19,
   "metadata": {},
   "outputs": [
    {
     "data": {
      "text/plain": [
       "(<matplotlib.collections.PatchCollection at 0x7fe4b3b4f640>,\n",
       " <matplotlib.collections.LineCollection at 0x7fe4b3b60430>)"
      ]
     },
     "execution_count": 19,
     "metadata": {},
     "output_type": "execute_result"
    },
    {
     "name": "stderr",
     "output_type": "stream",
     "text": [
      "/home/par19744/.local/lib/python3.10/site-packages/cartopy/io/__init__.py:241: DownloadWarning: Downloading: https://naturalearth.s3.amazonaws.com/50m_cultural/ne_50m_admin_0_boundary_lines_land.zip\n",
      "  warnings.warn(f'Downloading: {url}', DownloadWarning)\n",
      "/home/par19744/.local/lib/python3.10/site-packages/cartopy/mpl/style.py:76: UserWarning: facecolor will have no effect as it has been defined as \"never\".\n",
      "  warnings.warn('facecolor will have no effect as it has been '\n",
      "/home/par19744/.local/lib/python3.10/site-packages/cartopy/io/__init__.py:241: DownloadWarning: Downloading: https://naturalearth.s3.amazonaws.com/50m_physical/ne_50m_coastline.zip\n",
      "  warnings.warn(f'Downloading: {url}', DownloadWarning)\n"
     ]
    },
    {
     "data": {
      "image/png": "[encoded data removed]",
      "text/plain": [
       "<Figure size 288x288 with 1 Axes>"
      ]
     },
     "metadata": {
      "needs_background": "light"
     },
     "output_type": "display_data"
    }
   ],
   "source": [
    "fig, ax = plt.subplots(1, 1, subplot_kw={\"projection\": ccrs.EqualEarth()}, figsize=(4, 4))\n",
    "load_distribution = (network.loads_t.p_set.loc[network.snapshots[0]].groupby(network.loads.bus).sum())\n",
    "network.plot(bus_sizes=10e-4 * load_distribution, ax=ax, title=\"Load distribution\",geomap=True)"
   ]
  },
  {
   "cell_type": "code",
   "execution_count": 20,
   "metadata": {},
   "outputs": [
    {
     "data": {
      "text/plain": [
       "Index(['PV', 'gas', 'wind'], dtype='object', name='carrier')"
      ]
     },
     "execution_count": 20,
     "metadata": {},
     "output_type": "execute_result"
    }
   ],
   "source": [
    "p_by_carrier = network.generators_t.p.groupby(network.generators.carrier, axis=1).sum()\n",
    "p_by_carrier.columns"
   ]
  },
  {
   "cell_type": "code",
   "execution_count": 21,
   "metadata": {},
   "outputs": [],
   "source": [
    "colors = {\n",
    "    \"gas\": \"brown\",\n",
    "    \"wind\": \"blue\",\n",
    "    \"PV\": \"yellow\",\n",
    "}\n",
    "# reorder\n",
    "cols = [\n",
    "    \"gas\",\n",
    "    \"wind\",\n",
    "    \"PV\",\n",
    "]\n",
    "p_by_carrier = p_by_carrier[cols]"
   ]
  },
  {
   "cell_type": "code",
   "execution_count": 22,
   "metadata": {},
   "outputs": [
    {
     "data": {
      "image/png": "[encoded data removed]",
      "text/plain": [
       "<Figure size 864x432 with 1 Axes>"
      ]
     },
     "metadata": {
      "needs_background": "light"
     },
     "output_type": "display_data"
    }
   ],
   "source": [
    "c = [colors[col] for col in p_by_carrier.columns]\n",
    "\n",
    "fig, ax = plt.subplots(figsize=(12, 6))\n",
    "(p_by_carrier / 1e3).plot(kind=\"area\", ax=ax, linewidth=4, color=c, alpha=0.7)\n",
    "ax.legend(ncol=4, loc=\"upper left\")\n",
    "ax.set_ylabel(\"GW\")\n",
    "ax.set_xlabel(\"\")\n",
    "fig.tight_layout()"
   ]
  },
  {
   "cell_type": "code",
   "execution_count": 28,
   "metadata": {},
   "outputs": [
    {
     "data": {
      "text/plain": [
       "0     9.5\n",
       "1     2.5\n",
       "2   -12.0\n",
       "Name: 2024-01-01 01:00:00, dtype: float64"
      ]
     },
     "execution_count": 28,
     "metadata": {},
     "output_type": "execute_result"
    }
   ],
   "source": [
    "redisp_network.lines_t.p0.iloc[1]"
   ]
  },
  {
   "cell_type": "code",
   "execution_count": 24,
   "metadata": {},
   "outputs": [
    {
     "ename": "AttributeError",
     "evalue": "p",
     "output_type": "error",
     "traceback": [
      "\u001b[0;31m---------------------------------------------------------------------------\u001b[0m",
      "\u001b[0;31mKeyError\u001b[0m                                  Traceback (most recent call last)",
      "\u001b[0;32m~/.local/lib/python3.10/site-packages/pypsa/descriptors.py\u001b[0m in \u001b[0;36m__getattr__\u001b[0;34m(self, item)\u001b[0m\n\u001b[1;32m    101\u001b[0m         \u001b[0;32mtry\u001b[0m\u001b[0;34m:\u001b[0m\u001b[0;34m\u001b[0m\u001b[0;34m\u001b[0m\u001b[0m\n\u001b[0;32m--> 102\u001b[0;31m             \u001b[0;32mreturn\u001b[0m \u001b[0mself\u001b[0m\u001b[0;34m.\u001b[0m\u001b[0m__getitem__\u001b[0m\u001b[0;34m(\u001b[0m\u001b[0mitem\u001b[0m\u001b[0;34m)\u001b[0m\u001b[0;34m\u001b[0m\u001b[0;34m\u001b[0m\u001b[0m\n\u001b[0m\u001b[1;32m    103\u001b[0m         \u001b[0;32mexcept\u001b[0m \u001b[0mKeyError\u001b[0m \u001b[0;32mas\u001b[0m \u001b[0me\u001b[0m\u001b[0;34m:\u001b[0m\u001b[0;34m\u001b[0m\u001b[0;34m\u001b[0m\u001b[0m\n",
      "\u001b[0;31mKeyError\u001b[0m: 'p'",
      "\nDuring handling of the above exception, another exception occurred:\n",
      "\u001b[0;31mAttributeError\u001b[0m                            Traceback (most recent call last)",
      "\u001b[0;32m/tmp/ipykernel_499555/1679657206.py\u001b[0m in \u001b[0;36m<module>\u001b[0;34m\u001b[0m\n\u001b[1;32m     28\u001b[0m     \u001b[0;32mreturn\u001b[0m \u001b[0mplt\u001b[0m\u001b[0;34m.\u001b[0m\u001b[0mcolorbar\u001b[0m\u001b[0;34m(\u001b[0m\u001b[0mplot_graph\u001b[0m\u001b[0;34m[\u001b[0m\u001b[0;36m2\u001b[0m\u001b[0;34m]\u001b[0m\u001b[0;34m,\u001b[0m \u001b[0mfraction\u001b[0m\u001b[0;34m=\u001b[0m\u001b[0;36m0.04\u001b[0m\u001b[0;34m,\u001b[0m \u001b[0mpad\u001b[0m\u001b[0;34m=\u001b[0m\u001b[0;36m0.004\u001b[0m\u001b[0;34m,\u001b[0m \u001b[0mlabel\u001b[0m\u001b[0;34m=\u001b[0m\u001b[0;34m\"Flow in MW\"\u001b[0m\u001b[0;34m)\u001b[0m\u001b[0;34m,\u001b[0m \u001b[0mplt\u001b[0m\u001b[0;34m.\u001b[0m\u001b[0mshow\u001b[0m\u001b[0;34m(\u001b[0m\u001b[0;34m)\u001b[0m\u001b[0;34m\u001b[0m\u001b[0;34m\u001b[0m\u001b[0m\n\u001b[1;32m     29\u001b[0m \u001b[0;34m\u001b[0m\u001b[0m\n\u001b[0;32m---> 30\u001b[0;31m \u001b[0mplot_graphs\u001b[0m\u001b[0;34m(\u001b[0m\u001b[0;34m)\u001b[0m\u001b[0;34m\u001b[0m\u001b[0;34m\u001b[0m\u001b[0m\n\u001b[0m",
      "\u001b[0;32m/tmp/ipykernel_499555/1679657206.py\u001b[0m in \u001b[0;36mplot_graphs\u001b[0;34m()\u001b[0m\n\u001b[1;32m     19\u001b[0m         \u001b[0mline_widths\u001b[0m\u001b[0;34m=\u001b[0m\u001b[0;36m4\u001b[0m\u001b[0;34m,\u001b[0m\u001b[0;34m\u001b[0m\u001b[0;34m\u001b[0m\u001b[0m\n\u001b[1;32m     20\u001b[0m         \u001b[0mlink_widths\u001b[0m\u001b[0;34m=\u001b[0m\u001b[0;36m2\u001b[0m\u001b[0;34m,\u001b[0m\u001b[0;34m\u001b[0m\u001b[0;34m\u001b[0m\u001b[0m\n\u001b[0;32m---> 21\u001b[0;31m         \u001b[0mflow\u001b[0m\u001b[0;34m=\u001b[0m\u001b[0mpd\u001b[0m\u001b[0;34m.\u001b[0m\u001b[0mSeries\u001b[0m\u001b[0;34m(\u001b[0m\u001b[0mround\u001b[0m\u001b[0;34m(\u001b[0m\u001b[0mredisp_network\u001b[0m\u001b[0;34m.\u001b[0m\u001b[0mlines_t\u001b[0m\u001b[0;34m.\u001b[0m\u001b[0mp\u001b[0m\u001b[0;34m.\u001b[0m\u001b[0miloc\u001b[0m\u001b[0;34m[\u001b[0m\u001b[0;36m1\u001b[0m\u001b[0;34m]\u001b[0m\u001b[0;34m)\u001b[0m\u001b[0;34m,\u001b[0m \u001b[0mindex\u001b[0m\u001b[0;34m=\u001b[0m\u001b[0mredisp_network\u001b[0m\u001b[0;34m.\u001b[0m\u001b[0mbranches\u001b[0m\u001b[0;34m(\u001b[0m\u001b[0;34m)\u001b[0m\u001b[0;34m.\u001b[0m\u001b[0mindex\u001b[0m\u001b[0;34m)\u001b[0m\u001b[0;34m,\u001b[0m\u001b[0;34m\u001b[0m\u001b[0;34m\u001b[0m\u001b[0m\n\u001b[0m\u001b[1;32m     22\u001b[0m         \u001b[0mcolor_geomap\u001b[0m\u001b[0;34m=\u001b[0m\u001b[0;32mTrue\u001b[0m\u001b[0;34m,\u001b[0m\u001b[0;34m\u001b[0m\u001b[0;34m\u001b[0m\u001b[0m\n\u001b[1;32m     23\u001b[0m         \u001b[0mprojection\u001b[0m\u001b[0;34m=\u001b[0m\u001b[0mccrs\u001b[0m\u001b[0;34m.\u001b[0m\u001b[0mEqualEarth\u001b[0m\u001b[0;34m(\u001b[0m\u001b[0;34m)\u001b[0m\u001b[0;34m,\u001b[0m\u001b[0;34m\u001b[0m\u001b[0;34m\u001b[0m\u001b[0m\n",
      "\u001b[0;32m~/.local/lib/python3.10/site-packages/pypsa/descriptors.py\u001b[0m in \u001b[0;36m__getattr__\u001b[0;34m(self, item)\u001b[0m\n\u001b[1;32m    102\u001b[0m             \u001b[0;32mreturn\u001b[0m \u001b[0mself\u001b[0m\u001b[0;34m.\u001b[0m\u001b[0m__getitem__\u001b[0m\u001b[0;34m(\u001b[0m\u001b[0mitem\u001b[0m\u001b[0;34m)\u001b[0m\u001b[0;34m\u001b[0m\u001b[0;34m\u001b[0m\u001b[0m\n\u001b[1;32m    103\u001b[0m         \u001b[0;32mexcept\u001b[0m \u001b[0mKeyError\u001b[0m \u001b[0;32mas\u001b[0m \u001b[0me\u001b[0m\u001b[0;34m:\u001b[0m\u001b[0;34m\u001b[0m\u001b[0;34m\u001b[0m\u001b[0m\n\u001b[0;32m--> 104\u001b[0;31m             \u001b[0;32mraise\u001b[0m \u001b[0mAttributeError\u001b[0m\u001b[0;34m(\u001b[0m\u001b[0me\u001b[0m\u001b[0;34m.\u001b[0m\u001b[0margs\u001b[0m\u001b[0;34m[\u001b[0m\u001b[0;36m0\u001b[0m\u001b[0;34m]\u001b[0m\u001b[0;34m)\u001b[0m\u001b[0;34m\u001b[0m\u001b[0;34m\u001b[0m\u001b[0m\n\u001b[0m\u001b[1;32m    105\u001b[0m \u001b[0;34m\u001b[0m\u001b[0m\n\u001b[1;32m    106\u001b[0m     \u001b[0;32mdef\u001b[0m \u001b[0m__delattr__\u001b[0m\u001b[0;34m(\u001b[0m\u001b[0mself\u001b[0m\u001b[0;34m,\u001b[0m \u001b[0mname\u001b[0m\u001b[0;34m)\u001b[0m\u001b[0;34m:\u001b[0m\u001b[0;34m\u001b[0m\u001b[0;34m\u001b[0m\u001b[0m\n",
      "\u001b[0;31mAttributeError\u001b[0m: p"
     ]
    }
   ],
   "source": [
    "def plot_graphs():\n",
    "    # Calculate bus_sizes\n",
    "    bus_sizes = redisp_network.generators.assign(g=redisp_network.generators_t.p.mean()).groupby([\"bus\", \"carrier\"]).g.sum() / 50\n",
    "\n",
    "    # Get unique carriers from the bus_sizes index\n",
    "    unique_carriers = bus_sizes.index.get_level_values(\"carrier\").unique()\n",
    "\n",
    "    # Create bus_colors dictionary dynamically\n",
    "    bus_colors = {carrier: plt.cm.viridis(i / len(unique_carriers)) for i, carrier in enumerate(unique_carriers)}\n",
    "\n",
    "    # Ensure all unique carriers in bus_sizes have corresponding colors in bus_colors\n",
    "    assert set(bus_sizes.index.get_level_values(\"carrier\")) <= set(bus_colors.keys()), \"Missing colors for some carriers\"\n",
    "\n",
    "    # Plot the graph\n",
    "    plot_graph = redisp_network.plot(\n",
    "        bus_sizes=bus_sizes,\n",
    "        bus_colors=bus_colors,\n",
    "        margin=1,\n",
    "        line_widths=4,\n",
    "        link_widths=2,\n",
    "        flow=pd.Series(round(redisp_network.lines_t.p0.iloc[1]), index=redisp_network.branches().index),\n",
    "        color_geomap=True,\n",
    "        projection=ccrs.EqualEarth(),\n",
    "        line_colors=redisp_network.lines_t.p1.mean().abs(),\n",
    "    )\n",
    "\n",
    "    # Show the colorbar and the plot\n",
    "    return plt.colorbar(plot_graph[2], fraction=0.04, pad=0.004, label=\"Flow in MW\"), plt.show()\n",
    "\n",
    "plot_graphs()"
   ]
  }
 ],
 "metadata": {
  "@webio": {
   "lastCommId": null,
   "lastKernelId": null
  },
  "kernelspec": {
   "display_name": "Python 3 (ipykernel)",
   "language": "python",
   "name": "python3"
  },
  "language_info": {
   "codemirror_mode": {
    "name": "ipython",
    "version": 3
   },
   "file_extension": ".py",
   "mimetype": "text/x-python",
   "name": "python",
   "nbconvert_exporter": "python",
   "pygments_lexer": "ipython3",
   "version": "3.10.12"
  },
  "vscode": {
   "interpreter": {
    "hash": "31f2aee4e71d21fbe5cf8b01ff0e069b9275f58929596ceb00d14d90e3e16cd6"
   }
  }
 },
 "nbformat": 4,
 "nbformat_minor": 4
}
